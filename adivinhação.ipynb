{
 "cells": [
  {
   "cell_type": "code",
   "execution_count": 1,
   "id": "f24cc8d7",
   "metadata": {
    "scrolled": false
   },
   "outputs": [
    {
     "name": "stdout",
     "output_type": "stream",
     "text": [
      "\n",
      "\t    JOGO DE CHUTAR VALOR!\n",
      "\n",
      "\n",
      "\n",
      "\t APERTE ENTER PARA CONTINUAR!\n",
      "\tESCOLHA O NIVEL DE DIFICULDADE \n",
      " \t  1=FÁCIL  2=MÉDIO  3=DIFICIL 4-INSANO 5-IMPOSSIVEL 6-GOD\n",
      "\n",
      "  VOCÊ ACERTOU!\n",
      "\n",
      "NÚMERO DE TENTATIVA 1!\n"
     ]
    }
   ],
   "source": [
    "#Criativo\n",
    "import os\n",
    "import random\n",
    "os.system(\"cls\")\n",
    "\n",
    "print(\"\\n\\t    JOGO DE CHUTAR VALOR!\")\n",
    "print(\"\\n\\n\\n\\t APERTE ENTER PARA CONTINUAR!\")\n",
    "input()\n",
    "os.system(\"cls\")\n",
    "\n",
    "\n",
    "print(\"\\tESCOLHA O NIVEL DE DIFICULDADE \\n \\t  1=FÁCIL  2=MÉDIO  3=DIFICIL 4-INSANO 5-IMPOSSIVEL 6-GOD\")\n",
    "dif=int(input(\"\\n\\n DIGITE O VALOR CORRESPONDENTE: \"))\n",
    "os.system(\"cls\")\n",
    "\n",
    "if dif==1:\n",
    "    final=10\n",
    "elif dif==2:\n",
    "    final=50\n",
    "elif dif==3:\n",
    "    final=100\n",
    "elif dif==4:\n",
    "    final=200\n",
    "elif dif==5:\n",
    "    final=500\n",
    "elif dif==6:\n",
    "    final=10000\n",
    "else:\n",
    "    print(\"VALOR NÃO ENCONTRADO!\")\n",
    "    os.system(\"cls\")\n",
    "    input()\n",
    "\n",
    "valor=random.randrange(1,final,1)\n",
    "\n",
    "escolha=0\n",
    "inicio=1\n",
    "tentativa=0\n",
    "while escolha != valor:\n",
    "    if escolha==0:\n",
    "        escolha=int(input(\"DIGITE ALGUM VALOR DE {} A {}:  \".format(inicio,final)))\n",
    "    elif escolha>valor:\n",
    "        final=escolha-1\n",
    "        escolha=int(input(\"DIGITE ALGUM VALOR DE {} A {}:  \".format(inicio,final)))\n",
    "    elif escolha<valor:\n",
    "        inicio=escolha+1\n",
    "        escolha=int(input(\"DIGITE ALGUM VALOR DE {} A {}:  \".format(inicio,final)))\n",
    "\n",
    "    os.system(\"cls\")\n",
    "    tentativa += 1\n",
    "\n",
    "print(\"\\n  VOCÊ ACERTOU!\")\n",
    "print(\"\\nNÚMERO DE TENTATIVA {}!\".format(tentativa))"
   ]
  },
  {
   "cell_type": "code",
   "execution_count": 2,
   "id": "5dd641f2",
   "metadata": {},
   "outputs": [
    {
     "ename": "ValueError",
     "evalue": "invalid literal for int() with base 10: ''",
     "output_type": "error",
     "traceback": [
      "\u001b[1;31m---------------------------------------------------------------------------\u001b[0m",
      "\u001b[1;31mValueError\u001b[0m                                Traceback (most recent call last)",
      "Cell \u001b[1;32mIn [2], line 11\u001b[0m\n\u001b[0;32m      8\u001b[0m num \u001b[38;5;241m=\u001b[39m randint(\u001b[38;5;241m0\u001b[39m, \u001b[38;5;241m100\u001b[39m)\n\u001b[0;32m     10\u001b[0m \u001b[38;5;28;01mwhile\u001b[39;00m res \u001b[38;5;241m!=\u001b[39m num:\n\u001b[1;32m---> 11\u001b[0m     res \u001b[38;5;241m=\u001b[39m \u001b[38;5;28mint\u001b[39m(\u001b[38;5;28minput\u001b[39m(\u001b[38;5;124m\"\u001b[39m\u001b[38;5;124mInforme um numero entre 0 e 100\u001b[39m\u001b[38;5;130;01m\\n\u001b[39;00m\u001b[38;5;124m> \u001b[39m\u001b[38;5;124m\"\u001b[39m))\n\u001b[0;32m     12\u001b[0m     \u001b[38;5;28;01mif\u001b[39;00m res \u001b[38;5;241m==\u001b[39m num:\n\u001b[0;32m     13\u001b[0m         \u001b[38;5;28mprint\u001b[39m(\u001b[38;5;124m\"\u001b[39m\u001b[38;5;124mVoce acertou!\u001b[39m\u001b[38;5;124m\"\u001b[39m)\n",
      "\u001b[1;31mValueError\u001b[0m: invalid literal for int() with base 10: ''"
     ]
    }
   ],
   "source": [
    "#simples\n",
    "from random import randint\n",
    "from os import system\n",
    "\n",
    "res = -1\n",
    "ten = 0\n",
    "\n",
    "num = randint(0, 100)\n",
    "\n",
    "while res != num:\n",
    "    res = int(input(\"Informe um numero entre 0 e 100\\n> \"))\n",
    "    if res == num:\n",
    "        print(\"Voce acertou!\")\n",
    "    else:\n",
    "        print(\"Voce errou :(\")\n",
    "        print(res > num and \"o numero e menor\" or \"o numero e maior\")\n",
    "        system(\"pause\")\n",
    "        system(\"cls\")\n",
    "        ten+=1\n",
    "\n",
    "print(\"Resposta: [{}]\\nVocê acertou em {} tentativas\".format(res, ten+1))"
   ]
  },
  {
   "cell_type": "code",
   "execution_count": null,
   "id": "153ae916",
   "metadata": {},
   "outputs": [],
   "source": []
  }
 ],
 "metadata": {
  "kernelspec": {
   "display_name": "Python 3.11.1 64-bit",
   "language": "python",
   "name": "python3"
  },
  "language_info": {
   "codemirror_mode": {
    "name": "ipython",
    "version": 3
   },
   "file_extension": ".py",
   "mimetype": "text/x-python",
   "name": "python",
   "nbconvert_exporter": "python",
   "pygments_lexer": "ipython3",
   "version": "3.11.1"
  },
  "vscode": {
   "interpreter": {
    "hash": "ff4b1fca65a764b45acb559e482afe389d289dd599b9f8c5fd12ff5c2ea46a65"
   }
  }
 },
 "nbformat": 4,
 "nbformat_minor": 5
}
