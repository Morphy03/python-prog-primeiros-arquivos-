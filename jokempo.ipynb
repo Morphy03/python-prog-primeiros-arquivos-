{
 "cells": [
  {
   "cell_type": "code",
   "execution_count": 3,
   "id": "4bb3f478",
   "metadata": {
    "scrolled": true
   },
   "outputs": [
    {
     "name": "stdout",
     "output_type": "stream",
     "text": [
      "m vsf\n",
      "o computador ganhou\n"
     ]
    }
   ],
   "source": [
    "from random import randint\n",
    "jogador = input('Madeira(m), fogo(f) ou agua(a)')\n",
    "print(jogador, 'vs', end = '')\n",
    "escolhida = randint(1,3)\n",
    "#print(escolhido)\n",
    "if escolhida == 1:\n",
    "    computador = 'm'\n",
    "    \n",
    "elif escolhida == 2:\n",
    "    computador = 'f'\n",
    "    \n",
    "else: \n",
    "    computador = 'a'\n",
    "print(computador)    \n",
    "\n",
    "if jogador == computador:\n",
    "    print('empatou')   \n",
    "elif jogador == 'm' and computador == 'a':\n",
    "    print('o jogador ganhou')\n",
    "elif jogador == 'm' and computador == 'f':\n",
    "    print('o computador ganhou')\n",
    "elif jogador == 'a' and computador == 'm':\n",
    "    print('o computador ganhou')\n",
    "elif jogador == 'a' and computador == 'f':\n",
    "    print('o jogador ganhou')\n",
    "elif jogador == 'f' and computador == 'm':\n",
    "    print('o jogador ganhou')\n",
    "elif jogador == 'f' and computador == 'a':\n",
    "    print('o computador ganhou')"
   ]
  },
  {
   "cell_type": "code",
   "execution_count": 8,
   "id": "7c2289bd",
   "metadata": {},
   "outputs": [
    {
     "name": "stdout",
     "output_type": "stream",
     "text": [
      "e vs t\n",
      "o computador ganhou\n"
     ]
    }
   ],
   "source": [
    "from random import randint\n",
    "jogador = input('Pedra(p), Papel(e) ou Tesoura(t)')\n",
    "print(jogador, 'vs ', end = '')\n",
    "escolhida = randint(1,3)\n",
    "#print(escolhido)\n",
    "if escolhida == 1:\n",
    "    computador = 'p'\n",
    "    \n",
    "elif escolhida == 2:\n",
    "    computador = 'e'\n",
    "    \n",
    "else: \n",
    "    computador = 't'\n",
    "print(computador)    \n",
    "\n",
    "if jogador == computador:\n",
    "    print('empatou')   \n",
    "elif jogador == 'p' and computador == 't':\n",
    "    print('o jogador ganhou')\n",
    "elif jogador == 'p' and computador == 'e':\n",
    "    print('o computador ganhou')\n",
    "elif jogador == 't' and computador == 'p':\n",
    "    print('o computador ganhou')\n",
    "elif jogador == 't' and computador == 'e':\n",
    "    print('o jogador ganhou')\n",
    "elif jogador == 'e' and computador == 'p':\n",
    "    print('o jogador ganhou')\n",
    "elif jogador == 'e' and computador == 't':\n",
    "    print('o computador ganhou')"
   ]
  }
 ],
 "metadata": {
  "kernelspec": {
   "display_name": "Python 3.11.1 64-bit",
   "language": "python",
   "name": "python3"
  },
  "language_info": {
   "codemirror_mode": {
    "name": "ipython",
    "version": 3
   },
   "file_extension": ".py",
   "mimetype": "text/x-python",
   "name": "python",
   "nbconvert_exporter": "python",
   "pygments_lexer": "ipython3",
   "version": "3.11.1"
  },
  "vscode": {
   "interpreter": {
    "hash": "ff4b1fca65a764b45acb559e482afe389d289dd599b9f8c5fd12ff5c2ea46a65"
   }
  }
 },
 "nbformat": 4,
 "nbformat_minor": 5
}
